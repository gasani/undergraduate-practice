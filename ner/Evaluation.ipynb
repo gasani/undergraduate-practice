{
 "cells": [
  {
   "cell_type": "code",
   "execution_count": 2,
   "metadata": {
    "collapsed": false
   },
   "outputs": [],
   "source": [
    "from main import make_tagger\n",
    "\n",
    "stub_ner = make_tagger('stub')\n",
    "corenlp_ner = make_tagger('corenlp')\n",
    "spacy_ner = make_tagger('spacy')"
   ]
  },
  {
   "cell_type": "code",
   "execution_count": 3,
   "metadata": {
    "collapsed": true
   },
   "outputs": [],
   "source": [
    "import spacy\n",
    "\n",
    "_prefixes = ['\\s+']\n",
    "_suffixes = ['\\s+']\n",
    "_infixes = ['\\s+']\n",
    "\n",
    "spacy_ner.nlp.tokenizer.infix_finditer = spacy.util.compile_infix_regex(_infixes).finditer\n",
    "spacy_ner.nlp.tokenizer.prefix_search = spacy.util.compile_prefix_regex(_prefixes).search\n",
    "spacy_ner.nlp.tokenizer.suffix_search = spacy.util.compile_suffix_regex(_suffixes).search\n",
    "\n",
    "special_case = [{spacy.symbols.ORTH: u'cannot', spacy.symbols.LEMMA: u'cannot', spacy.symbols.POS: u'VERB'}]\n",
    "spacy_ner.nlp.tokenizer.add_special_case(u'cannot', special_case)"
   ]
  },
  {
   "cell_type": "code",
   "execution_count": 4,
   "metadata": {
    "collapsed": false
   },
   "outputs": [],
   "source": [
    "def load_conll(conll_path):\n",
    "    with open(conll_path, 'r') as conll_file:\n",
    "        conll_data = conll_file.read()\n",
    "        entries = [entry for entry in conll_data.split('\\n\\n') if entry]\n",
    "        \n",
    "        sentences = []\n",
    "        tags = []\n",
    "        for entry in entries:    \n",
    "            lines = entry.split('\\n')\n",
    "            sentence = []\n",
    "            sentence_tags = []\n",
    "            for l in lines:\n",
    "                columns = l.split(' ')\n",
    "                word = columns[0]\n",
    "                tag = columns[3].split('-')[-1]\n",
    "                \n",
    "                if word == '-DOCSTART-':\n",
    "                    continue\n",
    "                \n",
    "                sentence.append(word)\n",
    "                sentence_tags.append(tag)\n",
    "            \n",
    "            if not sentence:\n",
    "                continue\n",
    "\n",
    "            sentences.append(sentence)\n",
    "            tags.append(sentence_tags)\n",
    "            \n",
    "        return sentences, tags"
   ]
  },
  {
   "cell_type": "code",
   "execution_count": 5,
   "metadata": {
    "collapsed": false
   },
   "outputs": [],
   "source": [
    "sentences, tags = load_conll('data/conll2003/eng.testa')"
   ]
  },
  {
   "cell_type": "code",
   "execution_count": 9,
   "metadata": {
    "collapsed": false,
    "scrolled": false
   },
   "outputs": [],
   "source": [
    "nlp = spacy_ner\n",
    "y_true = []\n",
    "y_pred = []\n",
    "for s, t in zip(sentences, tags):\n",
    "    sentence = ' '.join(s)\n",
    "    pred = nlp.predict(sentence)\n",
    "    tokens = [w for w, t in pred]\n",
    "    tags_pred = [t for w, t in pred]\n",
    "    if len(tokens) != len(s):\n",
    "        print(sentence)\n",
    "        print('ERROR: Tokens do not match')\n",
    "        print('Expected:')\n",
    "        print(s)\n",
    "        print('Actual:')\n",
    "        print(tokens)\n",
    "        break\n",
    "        \n",
    "    y_true += t\n",
    "    y_pred += tags_pred"
   ]
  },
  {
   "cell_type": "code",
   "execution_count": 7,
   "metadata": {
    "collapsed": true
   },
   "outputs": [],
   "source": [
    "from sklearn.metrics import f1_score"
   ]
  },
  {
   "cell_type": "code",
   "execution_count": 10,
   "metadata": {
    "collapsed": false
   },
   "outputs": [
    {
     "data": {
      "text/plain": [
       "0.8563504398999212"
      ]
     },
     "execution_count": 10,
     "metadata": {},
     "output_type": "execute_result"
    }
   ],
   "source": [
    "f1_score(y_true, y_pred, average='weighted')"
   ]
  }
 ],
 "metadata": {
  "anaconda-cloud": {},
  "kernelspec": {
   "display_name": "Python [conda root]",
   "language": "python",
   "name": "conda-root-py"
  },
  "language_info": {
   "codemirror_mode": {
    "name": "ipython",
    "version": 3
   },
   "file_extension": ".py",
   "mimetype": "text/x-python",
   "name": "python",
   "nbconvert_exporter": "python",
   "pygments_lexer": "ipython3",
   "version": "3.5.2"
  }
 },
 "nbformat": 4,
 "nbformat_minor": 1
}
