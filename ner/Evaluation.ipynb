{
 "cells": [
  {
   "cell_type": "markdown",
   "metadata": {},
   "source": [
    "# Accuracy and performance evaluation of SpaCy, Stanford NER and NLTK NER Chunker"
   ]
  },
  {
   "cell_type": "markdown",
   "metadata": {},
   "source": [
    "## Initialization"
   ]
  },
  {
   "cell_type": "markdown",
   "metadata": {},
   "source": [
    "### Prerequisites"
   ]
  },
  {
   "cell_type": "markdown",
   "metadata": {},
   "source": [
    " - Stanford Named Entity Recognizer from CoreNLP: https://nlp.stanford.edu/software/CRF-NER.html#Download\n",
    " - SpaCy: https://spacy.io/usage/"
   ]
  },
  {
   "cell_type": "markdown",
   "metadata": {},
   "source": [
    "NLTK preprequisites:"
   ]
  },
  {
   "cell_type": "code",
   "execution_count": 1,
   "metadata": {},
   "outputs": [
    {
     "name": "stdout",
     "output_type": "stream",
     "text": [
      "[nltk_data] Downloading package punkt to\n",
      "[nltk_data]     /home/sys_avctests/nltk_data...\n",
      "[nltk_data]   Package punkt is already up-to-date!\n",
      "[nltk_data] Downloading package words to\n",
      "[nltk_data]     /home/sys_avctests/nltk_data...\n",
      "[nltk_data]   Package words is already up-to-date!\n",
      "[nltk_data] Downloading package averaged_perceptron_tagger to\n",
      "[nltk_data]     /home/sys_avctests/nltk_data...\n",
      "[nltk_data]   Package averaged_perceptron_tagger is already up-to-\n",
      "[nltk_data]       date!\n",
      "[nltk_data] Downloading package maxent_ne_chunker to\n",
      "[nltk_data]     /home/sys_avctests/nltk_data...\n",
      "[nltk_data]   Package maxent_ne_chunker is already up-to-date!\n"
     ]
    },
    {
     "data": {
      "text/plain": [
       "True"
      ]
     },
     "execution_count": 1,
     "metadata": {},
     "output_type": "execute_result"
    }
   ],
   "source": [
    "import nltk\n",
    "nltk.download(\"punkt\")\n",
    "nltk.download(\"words\")\n",
    "nltk.download(\"averaged_perceptron_tagger\")\n",
    "nltk.download(\"maxent_ne_chunker\")"
   ]
  },
  {
   "cell_type": "markdown",
   "metadata": {},
   "source": [
    "### Load taggers"
   ]
  },
  {
   "cell_type": "code",
   "execution_count": 2,
   "metadata": {
    "collapsed": true
   },
   "outputs": [],
   "source": [
    "from main import make_tagger\n",
    "\n",
    "stub_ner = make_tagger('stub')\n",
    "corenlp_ner = make_tagger('corenlp')\n",
    "spacy_ner = make_tagger('spacy')\n",
    "nltkchunker_ner = make_tagger('nltkchunker')"
   ]
  },
  {
   "cell_type": "markdown",
   "metadata": {},
   "source": [
    "We need to change SpaCy tokenizer settings so that it matches ConLL tokens"
   ]
  },
  {
   "cell_type": "code",
   "execution_count": 3,
   "metadata": {
    "collapsed": true
   },
   "outputs": [],
   "source": [
    "import spacy\n",
    "\n",
    "_prefixes = ['\\s+']\n",
    "_suffixes = ['\\s+']\n",
    "_infixes = ['\\s+']\n",
    "\n",
    "spacy_ner.nlp.tokenizer.infix_finditer = spacy.util.compile_infix_regex(_infixes).finditer\n",
    "spacy_ner.nlp.tokenizer.prefix_search = spacy.util.compile_prefix_regex(_prefixes).search\n",
    "spacy_ner.nlp.tokenizer.suffix_search = spacy.util.compile_suffix_regex(_suffixes).search\n",
    "\n",
    "special_case = [{spacy.symbols.ORTH: u'cannot', spacy.symbols.LEMMA: u'cannot', spacy.symbols.POS: u'VERB'}]\n",
    "spacy_ner.nlp.tokenizer.add_special_case(u'cannot', special_case)"
   ]
  },
  {
   "cell_type": "markdown",
   "metadata": {},
   "source": [
    "## Accuracy evaluation"
   ]
  },
  {
   "cell_type": "markdown",
   "metadata": {},
   "source": [
    "We evaluate accuracy using F1 score on [CoNLL-2003](https://www.clips.uantwerpen.be/conll2003/ner/) dataset."
   ]
  },
  {
   "cell_type": "code",
   "execution_count": 4,
   "metadata": {
    "collapsed": true
   },
   "outputs": [],
   "source": [
    "def load_conll(conll_path):\n",
    "    with open(conll_path, 'r') as conll_file:\n",
    "        conll_data = conll_file.read()\n",
    "        entries = [entry for entry in conll_data.split('\\n\\n') if entry]\n",
    "        \n",
    "        sentences = []\n",
    "        tags = []\n",
    "        for entry in entries:    \n",
    "            lines = entry.split('\\n')\n",
    "            sentence = []\n",
    "            sentence_tags = []\n",
    "            for l in lines:\n",
    "                columns = l.split(' ')\n",
    "                word = columns[0]\n",
    "                tag = columns[3].split('-')[-1]\n",
    "                \n",
    "                if word == '-DOCSTART-':\n",
    "                    continue\n",
    "                \n",
    "                sentence.append(word)\n",
    "                sentence_tags.append(tag)\n",
    "            \n",
    "            if not sentence:\n",
    "                continue\n",
    "\n",
    "            sentences.append(sentence)\n",
    "            tags.append(sentence_tags)\n",
    "            \n",
    "        return sentences, tags"
   ]
  },
  {
   "cell_type": "code",
   "execution_count": 5,
   "metadata": {
    "collapsed": true
   },
   "outputs": [],
   "source": [
    "sentences, tags = load_conll('data/conll2003/eng.testa')"
   ]
  },
  {
   "cell_type": "code",
   "execution_count": 26,
   "metadata": {
    "collapsed": true,
    "scrolled": false
   },
   "outputs": [],
   "source": [
    "from sklearn.metrics import f1_score\n",
    "import time\n",
    "\n",
    "def evaluate_nlp(nlp, sentences, tags, print_every=10, use_first_n=None):\n",
    "    y_true = []\n",
    "    y_pred = []\n",
    "    \n",
    "    i = 0\n",
    "    if use_first_n is None:\n",
    "        use_first_n = len(sentences)\n",
    "    total = use_first_n\n",
    "    last = 0\n",
    "    \n",
    "    total_time = 0\n",
    "    for s, t in zip(sentences[:use_first_n], tags[:use_first_n]):\n",
    "        progress = int(i/total*100)\n",
    "        i+=1\n",
    "        if progress % print_every == 0 and progress > last:\n",
    "            print('{}%'.format(progress))\n",
    "            last = progress\n",
    "        \n",
    "        sentence = ' '.join(s)\n",
    "        \n",
    "        begin_time = time.perf_counter()\n",
    "        \n",
    "        pred = nlp.predict(sentence)\n",
    "        \n",
    "        end_time = time.perf_counter()\n",
    "        total_time += end_time - begin_time\n",
    "        \n",
    "        tokens = [w for w, t in pred]\n",
    "        tags_pred = [t for w, t in pred]        \n",
    "        if len(tokens) != len(s):\n",
    "            print(sentence)\n",
    "            print('ERROR: Tokens do not match')\n",
    "            print('Expected:')\n",
    "            print(s)\n",
    "            print('Actual:')\n",
    "            print(tokens)\n",
    "\n",
    "        y_true += t\n",
    "        y_pred += tags_pred\n",
    "    return f1_score(y_true, y_pred, average='weighted'), total_time"
   ]
  },
  {
   "cell_type": "code",
   "execution_count": 7,
   "metadata": {
    "collapsed": true
   },
   "outputs": [],
   "source": [
    "use_first_n = None"
   ]
  },
  {
   "cell_type": "code",
   "execution_count": 27,
   "metadata": {},
   "outputs": [
    {
     "name": "stdout",
     "output_type": "stream",
     "text": [
      "10%\n",
      "20%\n",
      "30%\n",
      "40%\n",
      "50%\n",
      "60%\n",
      "70%\n",
      "80%\n",
      "90%\n"
     ]
    },
    {
     "name": "stderr",
     "output_type": "stream",
     "text": [
      "/home/sys_avctests/anaconda3/lib/python3.6/site-packages/sklearn/metrics/classification.py:1135: UndefinedMetricWarning: F-score is ill-defined and being set to 0.0 in labels with no predicted samples.\n",
      "  'precision', 'predicted', average, warn_for)\n"
     ]
    }
   ],
   "source": [
    "stub_score, stub_total_time = evaluate_nlp(stub_ner, sentences, tags, use_first_n=use_first_n)"
   ]
  },
  {
   "cell_type": "code",
   "execution_count": 28,
   "metadata": {},
   "outputs": [
    {
     "name": "stdout",
     "output_type": "stream",
     "text": [
      "10%\n",
      "20%\n",
      "30%\n",
      "40%\n",
      "50%\n",
      "60%\n",
      "70%\n",
      "80%\n",
      "90%\n"
     ]
    }
   ],
   "source": [
    "spacy_score, spacy_total_time = evaluate_nlp(spacy_ner, sentences, tags, use_first_n=use_first_n)"
   ]
  },
  {
   "cell_type": "code",
   "execution_count": 29,
   "metadata": {},
   "outputs": [
    {
     "name": "stdout",
     "output_type": "stream",
     "text": [
      "10%\n",
      "20%\n",
      "30%\n",
      "40%\n",
      "50%\n",
      "60%\n",
      "70%\n",
      "80%\n",
      "90%\n"
     ]
    }
   ],
   "source": [
    "nltk_score, nltk_total_time = evaluate_nlp(nltkchunker_ner, sentences, tags, use_first_n=use_first_n)"
   ]
  },
  {
   "cell_type": "code",
   "execution_count": 11,
   "metadata": {},
   "outputs": [
    {
     "name": "stdout",
     "output_type": "stream",
     "text": [
      "5%\n",
      "10%\n",
      "15%\n",
      "20%\n",
      "25%\n",
      "30%\n",
      "35%\n",
      "40%\n",
      "45%\n",
      "50%\n",
      "55%\n",
      "60%\n",
      "65%\n",
      "70%\n",
      "75%\n",
      "80%\n",
      "85%\n",
      "90%\n",
      "95%\n"
     ]
    }
   ],
   "source": [
    "corenlp_score, corenlp_total_time = evaluate_nlp(corenlp_ner, sentences, tags, print_every=5, use_first_n=use_first_n)"
   ]
  },
  {
   "cell_type": "code",
   "execution_count": 30,
   "metadata": {},
   "outputs": [
    {
     "name": "stdout",
     "output_type": "stream",
     "text": [
      "Stub    F1: 0.7564088755507238\tTime: 0.007582192542031407 s\n",
      "SpaCy   F1: 0.8563504398999212\tTime: 12.994770019082353 s\n",
      "NLTK    F1: 0.8843175698887001\tTime: 9.864065591013059 s\n",
      "CoreNLP F1: 0.9863696253399017\tTime: 978.02251217899948 s\n"
     ]
    }
   ],
   "source": [
    "print('Stub    F1: {}\\tTime: {} s'.format(stub_score, stub_total_time))\n",
    "print('SpaCy   F1: {}\\tTime: {} s'.format(spacy_score, spacy_total_time))\n",
    "print('NLTK    F1: {}\\tTime: {} s'.format(nltk_score, nltk_total_time))\n",
    "print('CoreNLP F1: {}\\tTime: {} s'.format(corenlp_score, corenlp_total_time))"
   ]
  },
  {
   "cell_type": "markdown",
   "metadata": {},
   "source": [
    "## Performance evaluation"
   ]
  },
  {
   "cell_type": "markdown",
   "metadata": {},
   "source": [
    "We evaluate performance on a sample from [Customer Support on Twitter](https://www.kaggle.com/thoughtvector/customer-support-on-twitter)"
   ]
  },
  {
   "cell_type": "code",
   "execution_count": 13,
   "metadata": {
    "collapsed": true
   },
   "outputs": [],
   "source": [
    "import pandas as pd\n",
    "%matplotlib inline"
   ]
  },
  {
   "cell_type": "code",
   "execution_count": 14,
   "metadata": {
    "collapsed": true
   },
   "outputs": [],
   "source": [
    "#twcs = pd.read_csv('data/twcs/twcs.csv')\n",
    "twcs = pd.read_csv('data/twcs/sample.csv')"
   ]
  },
  {
   "cell_type": "code",
   "execution_count": 15,
   "metadata": {},
   "outputs": [],
   "source": [
    "twcs_inbound = twcs[twcs['inbound'] == True]"
   ]
  },
  {
   "cell_type": "code",
   "execution_count": 16,
   "metadata": {
    "collapsed": true
   },
   "outputs": [],
   "source": [
    "def evaluate_performance(nlp, msgs):\n",
    "    perf = pd.DataFrame(columns=['length', 'time'])\n",
    "    for sentence in msgs:\n",
    "        begin_time = time.perf_counter()\n",
    "        \n",
    "        pred = nlp.predict(sentence)\n",
    "        \n",
    "        end_time = time.perf_counter()\n",
    "        elapsed_time = end_time - begin_time\n",
    "        \n",
    "        perf = perf.append({'length': len(sentence), 'time' : elapsed_time}, ignore_index=True)\n",
    "\n",
    "    return perf"
   ]
  },
  {
   "cell_type": "code",
   "execution_count": 17,
   "metadata": {
    "collapsed": true
   },
   "outputs": [],
   "source": [
    "nltk_perf = evaluate_performance(nltkchunker_ner, twcs_inbound['text'])"
   ]
  },
  {
   "cell_type": "code",
   "execution_count": 18,
   "metadata": {},
   "outputs": [
    {
     "data": {
      "text/html": [
       "<div>\n",
       "<style>\n",
       "    .dataframe thead tr:only-child th {\n",
       "        text-align: right;\n",
       "    }\n",
       "\n",
       "    .dataframe thead th {\n",
       "        text-align: left;\n",
       "    }\n",
       "\n",
       "    .dataframe tbody tr th {\n",
       "        vertical-align: top;\n",
       "    }\n",
       "</style>\n",
       "<table border=\"1\" class=\"dataframe\">\n",
       "  <thead>\n",
       "    <tr style=\"text-align: right;\">\n",
       "      <th></th>\n",
       "      <th>length</th>\n",
       "      <th>time</th>\n",
       "    </tr>\n",
       "  </thead>\n",
       "  <tbody>\n",
       "    <tr>\n",
       "      <th>count</th>\n",
       "      <td>49.000000</td>\n",
       "      <td>49.000000</td>\n",
       "    </tr>\n",
       "    <tr>\n",
       "      <th>mean</th>\n",
       "      <td>106.142857</td>\n",
       "      <td>0.004465</td>\n",
       "    </tr>\n",
       "    <tr>\n",
       "      <th>std</th>\n",
       "      <td>35.308757</td>\n",
       "      <td>0.001540</td>\n",
       "    </tr>\n",
       "    <tr>\n",
       "      <th>min</th>\n",
       "      <td>32.000000</td>\n",
       "      <td>0.001293</td>\n",
       "    </tr>\n",
       "    <tr>\n",
       "      <th>25%</th>\n",
       "      <td>79.000000</td>\n",
       "      <td>0.003236</td>\n",
       "    </tr>\n",
       "    <tr>\n",
       "      <th>50%</th>\n",
       "      <td>108.000000</td>\n",
       "      <td>0.004787</td>\n",
       "    </tr>\n",
       "    <tr>\n",
       "      <th>75%</th>\n",
       "      <td>137.000000</td>\n",
       "      <td>0.005552</td>\n",
       "    </tr>\n",
       "    <tr>\n",
       "      <th>max</th>\n",
       "      <td>170.000000</td>\n",
       "      <td>0.007685</td>\n",
       "    </tr>\n",
       "  </tbody>\n",
       "</table>\n",
       "</div>"
      ],
      "text/plain": [
       "           length       time\n",
       "count   49.000000  49.000000\n",
       "mean   106.142857   0.004465\n",
       "std     35.308757   0.001540\n",
       "min     32.000000   0.001293\n",
       "25%     79.000000   0.003236\n",
       "50%    108.000000   0.004787\n",
       "75%    137.000000   0.005552\n",
       "max    170.000000   0.007685"
      ]
     },
     "execution_count": 18,
     "metadata": {},
     "output_type": "execute_result"
    }
   ],
   "source": [
    "nltk_perf.describe()"
   ]
  },
  {
   "cell_type": "code",
   "execution_count": 19,
   "metadata": {},
   "outputs": [
    {
     "data": {
      "text/plain": [
       "<matplotlib.axes._subplots.AxesSubplot at 0x7f038b51e4e0>"
      ]
     },
     "execution_count": 19,
     "metadata": {},
     "output_type": "execute_result"
    },
    {
     "data": {
      "image/png": "[encoded data removed]",
      "text/plain": [
       "<matplotlib.figure.Figure at 0x7f038b4f3c18>"
      ]
     },
     "metadata": {},
     "output_type": "display_data"
    }
   ],
   "source": [
    "nltk_perf.plot(y='time', x='length', kind='scatter')"
   ]
  },
  {
   "cell_type": "code",
   "execution_count": 20,
   "metadata": {},
   "outputs": [],
   "source": [
    "spacy_perf = evaluate_performance(spacy_ner, twcs_inbound['text'])"
   ]
  },
  {
   "cell_type": "code",
   "execution_count": 21,
   "metadata": {},
   "outputs": [
    {
     "data": {
      "text/html": [
       "<div>\n",
       "<style>\n",
       "    .dataframe thead tr:only-child th {\n",
       "        text-align: right;\n",
       "    }\n",
       "\n",
       "    .dataframe thead th {\n",
       "        text-align: left;\n",
       "    }\n",
       "\n",
       "    .dataframe tbody tr th {\n",
       "        vertical-align: top;\n",
       "    }\n",
       "</style>\n",
       "<table border=\"1\" class=\"dataframe\">\n",
       "  <thead>\n",
       "    <tr style=\"text-align: right;\">\n",
       "      <th></th>\n",
       "      <th>length</th>\n",
       "      <th>time</th>\n",
       "    </tr>\n",
       "  </thead>\n",
       "  <tbody>\n",
       "    <tr>\n",
       "      <th>count</th>\n",
       "      <td>49.000000</td>\n",
       "      <td>49.000000</td>\n",
       "    </tr>\n",
       "    <tr>\n",
       "      <th>mean</th>\n",
       "      <td>106.142857</td>\n",
       "      <td>0.004426</td>\n",
       "    </tr>\n",
       "    <tr>\n",
       "      <th>std</th>\n",
       "      <td>35.308757</td>\n",
       "      <td>0.000525</td>\n",
       "    </tr>\n",
       "    <tr>\n",
       "      <th>min</th>\n",
       "      <td>32.000000</td>\n",
       "      <td>0.003433</td>\n",
       "    </tr>\n",
       "    <tr>\n",
       "      <th>25%</th>\n",
       "      <td>79.000000</td>\n",
       "      <td>0.004107</td>\n",
       "    </tr>\n",
       "    <tr>\n",
       "      <th>50%</th>\n",
       "      <td>108.000000</td>\n",
       "      <td>0.004459</td>\n",
       "    </tr>\n",
       "    <tr>\n",
       "      <th>75%</th>\n",
       "      <td>137.000000</td>\n",
       "      <td>0.004752</td>\n",
       "    </tr>\n",
       "    <tr>\n",
       "      <th>max</th>\n",
       "      <td>170.000000</td>\n",
       "      <td>0.006527</td>\n",
       "    </tr>\n",
       "  </tbody>\n",
       "</table>\n",
       "</div>"
      ],
      "text/plain": [
       "           length       time\n",
       "count   49.000000  49.000000\n",
       "mean   106.142857   0.004426\n",
       "std     35.308757   0.000525\n",
       "min     32.000000   0.003433\n",
       "25%     79.000000   0.004107\n",
       "50%    108.000000   0.004459\n",
       "75%    137.000000   0.004752\n",
       "max    170.000000   0.006527"
      ]
     },
     "execution_count": 21,
     "metadata": {},
     "output_type": "execute_result"
    }
   ],
   "source": [
    "spacy_perf.describe()"
   ]
  },
  {
   "cell_type": "code",
   "execution_count": 22,
   "metadata": {},
   "outputs": [
    {
     "data": {
      "text/plain": [
       "<matplotlib.axes._subplots.AxesSubplot at 0x7f0387c12780>"
      ]
     },
     "execution_count": 22,
     "metadata": {},
     "output_type": "execute_result"
    },
    {
     "data": {
      "image/png": "[encoded data removed]",
      "text/plain": [
       "<matplotlib.figure.Figure at 0x7f038b462320>"
      ]
     },
     "metadata": {},
     "output_type": "display_data"
    }
   ],
   "source": [
    "spacy_perf.plot(y='time', x='length', kind='scatter')"
   ]
  },
  {
   "cell_type": "code",
   "execution_count": 23,
   "metadata": {
    "collapsed": true
   },
   "outputs": [],
   "source": [
    "corenlp_perf = evaluate_performance(corenlp_ner, twcs_inbound['text'])"
   ]
  },
  {
   "cell_type": "code",
   "execution_count": 24,
   "metadata": {},
   "outputs": [
    {
     "data": {
      "text/html": [
       "<div>\n",
       "<style>\n",
       "    .dataframe thead tr:only-child th {\n",
       "        text-align: right;\n",
       "    }\n",
       "\n",
       "    .dataframe thead th {\n",
       "        text-align: left;\n",
       "    }\n",
       "\n",
       "    .dataframe tbody tr th {\n",
       "        vertical-align: top;\n",
       "    }\n",
       "</style>\n",
       "<table border=\"1\" class=\"dataframe\">\n",
       "  <thead>\n",
       "    <tr style=\"text-align: right;\">\n",
       "      <th></th>\n",
       "      <th>length</th>\n",
       "      <th>time</th>\n",
       "    </tr>\n",
       "  </thead>\n",
       "  <tbody>\n",
       "    <tr>\n",
       "      <th>count</th>\n",
       "      <td>49.000000</td>\n",
       "      <td>49.000000</td>\n",
       "    </tr>\n",
       "    <tr>\n",
       "      <th>mean</th>\n",
       "      <td>106.142857</td>\n",
       "      <td>1.267256</td>\n",
       "    </tr>\n",
       "    <tr>\n",
       "      <th>std</th>\n",
       "      <td>35.308757</td>\n",
       "      <td>0.049076</td>\n",
       "    </tr>\n",
       "    <tr>\n",
       "      <th>min</th>\n",
       "      <td>32.000000</td>\n",
       "      <td>1.187708</td>\n",
       "    </tr>\n",
       "    <tr>\n",
       "      <th>25%</th>\n",
       "      <td>79.000000</td>\n",
       "      <td>1.219221</td>\n",
       "    </tr>\n",
       "    <tr>\n",
       "      <th>50%</th>\n",
       "      <td>108.000000</td>\n",
       "      <td>1.266668</td>\n",
       "    </tr>\n",
       "    <tr>\n",
       "      <th>75%</th>\n",
       "      <td>137.000000</td>\n",
       "      <td>1.309793</td>\n",
       "    </tr>\n",
       "    <tr>\n",
       "      <th>max</th>\n",
       "      <td>170.000000</td>\n",
       "      <td>1.358970</td>\n",
       "    </tr>\n",
       "  </tbody>\n",
       "</table>\n",
       "</div>"
      ],
      "text/plain": [
       "           length       time\n",
       "count   49.000000  49.000000\n",
       "mean   106.142857   1.267256\n",
       "std     35.308757   0.049076\n",
       "min     32.000000   1.187708\n",
       "25%     79.000000   1.219221\n",
       "50%    108.000000   1.266668\n",
       "75%    137.000000   1.309793\n",
       "max    170.000000   1.358970"
      ]
     },
     "execution_count": 24,
     "metadata": {},
     "output_type": "execute_result"
    }
   ],
   "source": [
    "corenlp_perf.describe()"
   ]
  },
  {
   "cell_type": "code",
   "execution_count": 25,
   "metadata": {},
   "outputs": [
    {
     "data": {
      "text/plain": [
       "<matplotlib.axes._subplots.AxesSubplot at 0x7f0387c17860>"
      ]
     },
     "execution_count": 25,
     "metadata": {},
     "output_type": "execute_result"
    },
    {
     "data": {
      "image/png": "[encoded data removed]",
      "text/plain": [
       "<matplotlib.figure.Figure at 0x7f0387c1cef0>"
      ]
     },
     "metadata": {},
     "output_type": "display_data"
    }
   ],
   "source": [
    "corenlp_perf.plot(y='time', x='length', kind='scatter')"
   ]
  }
 ],
 "metadata": {
  "anaconda-cloud": {},
  "kernelspec": {
   "display_name": "Python 3",
   "language": "python",
   "name": "python3"
  },
  "language_info": {
   "codemirror_mode": {
    "name": "ipython",
    "version": 3
   },
   "file_extension": ".py",
   "mimetype": "text/x-python",
   "name": "python",
   "nbconvert_exporter": "python",
   "pygments_lexer": "ipython3",
   "version": "3.6.2"
  }
 },
 "nbformat": 4,
 "nbformat_minor": 1
}
